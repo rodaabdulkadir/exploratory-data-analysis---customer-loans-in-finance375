# Jupyter Notebook (.ipynb)

# Import necessary libraries
import pandas as pd
from data_transform import DataTransform

# Create an instance of DataTransform
data_transformer = DataTransform()

# Load the data
df = pd.read_csv('loan_payments_data.csv')

# Other transformations if needed

# Convert specified columns to numeric format
df = data_transformer.convert_to_numeric(df, ['loan_amount', 'annual_inc'])

# Convert specified columns to categorical format
df = data_transformer.convert_to_categorical(df, ['grade', 'home_ownership', 'loan_status'])

# Remove special characters from specified columns
df = data_transformer.remove_special_characters(df, ['purpose'])

# Display the modified DataFrame
df.head()


# Import necessary libraries
import pandas as pd
from data_frame_info import DataFrameInfo  # Adjust the import statement based on your filename

# Load the data
df = pd.read_csv('loan_payments_data.csv')

# Create an instance of DataFrameInfo
df_info = DataFrameInfo(df)

# Example Usage
print("Data Types of Columns:")
print(df_info.describe_columns())

print("\nStatistical Values:")
print(df_info.extract_statistics())

print("\nDistinct Values in Categorical Columns:")
print(df_info.count_distinct_values(['grade', 'home_ownership', 'loan_status']))

print("\nDataFrame Shape:")
print(df_info.print_dataframe_shape())

print("\nNull Counts and Percentages:")
print(df_info.generate_null_counts())

# Your Jupyter Notebook (.ipynb)

# Import necessary libraries and classes
import pandas as pd
from plotter import Plotter
from data_frame_transform import DataFrameTransform

# Create instances of Plotter and DataFrameTransform
plotter = Plotter()
data_transformer = DataFrameTransform()

# Load your dataset
df = pd.read_csv('loan_payments_data.csv')

# Visualize missing values
plotter.visualize_nulls(df)

# Check nulls and drop columns if needed
null_counts_before = data_transformer.check_nulls(df)
df = data_transformer.drop_nulls(df, threshold=0.2)
null_counts_after = data_transformer.check_nulls(df)

# Impute missing values
df_imputed = data_transformer.impute_nulls(df)

# Visualize missing values after imputation
plotter.visualize_nulls(df_imputed)

# Create instances of Plotter and DataFrameTransform
plotter = Plotter()
data_transformer = DataFrameTransform()

# Load your dataset
df = pd.read_csv('loan_payments_data.csv')

# Visualize outliers
plotter.visualize_outliers(df)

# Remove outliers
df_no_outliers = data_transformer.remove_outliers(df)

# Visualize outliers after removal
plotter.visualize_outliers(df_no_outliers)
